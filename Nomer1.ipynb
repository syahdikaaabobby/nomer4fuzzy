{
  "nbformat": 4,
  "nbformat_minor": 0,
  "metadata": {
    "colab": {
      "provenance": []
    },
    "kernelspec": {
      "name": "python3",
      "display_name": "Python 3"
    },
    "language_info": {
      "name": "python"
    }
  },
  "cells": [
    {
      "cell_type": "code",
      "execution_count": 2,
      "metadata": {
        "colab": {
          "base_uri": "https://localhost:8080/"
        },
        "id": "r0JlpORa7ypL",
        "outputId": "8f4a54e6-6ccc-4a4f-ece5-8056a740e77f"
      },
      "outputs": [
        {
          "output_type": "stream",
          "name": "stdout",
          "text": [
            "Rute pengiriman terbaik: [0 1 3 2 5 9 8 6 7 4]\n",
            "Total waktu tempuh terkecil: 174.25945581248445 unit jarak euclidean\n"
          ]
        }
      ],
      "source": [
        "import numpy as np\n",
        "\n",
        "# Definisi fungsi evaluasi (total jarak tempuh)\n",
        "def evaluate(x):\n",
        "    total_distance = 0\n",
        "    current_node = 0  # Titik awal\n",
        "    for i in range(len(x)):\n",
        "        total_distance += distance_matrix[current_node][x[i]]\n",
        "        current_node = x[i]\n",
        "    total_distance += distance_matrix[current_node][0]  # Kembali ke titik awal\n",
        "    return total_distance\n",
        "\n",
        "# Data pelanggan dan jarak antar pelanggan (berdasarkan koordinat yang Anda berikan)\n",
        "pelanggan = ['Y', 'C', 'A', 'D', 'B', 'E', 'F', 'H', 'J', 'I', 'G']\n",
        "coordinates = {\n",
        "    'Y': (0, 0), 'C': (5, 10), 'A': (15, 5), 'D': (15, 20), 'B': (10, 30),\n",
        "    'E': (25, 10), 'F': (30, 20), 'H': (35, 30), 'J': (40, 10), 'I': (45, 25), 'G': (45, 5)\n",
        "}\n",
        "\n",
        "# Hitung jarak antara setiap pasangan pelanggan (jarak euclidean)\n",
        "distance_matrix = []\n",
        "for from_customer in pelanggan:\n",
        "    distances = []\n",
        "    from_coord = coordinates[from_customer]\n",
        "    for to_customer in pelanggan:\n",
        "        to_coord = coordinates[to_customer]\n",
        "        distance = np.sqrt((to_coord[0] - from_coord[0]) ** 2 + (to_coord[1] - from_coord[1]) ** 2)\n",
        "        distances.append(distance)\n",
        "    distance_matrix.append(distances)\n",
        "\n",
        "# Algoritma Particle Swarm Optimization (PSO)\n",
        "class Particle:\n",
        "    def __init__(self, n):\n",
        "        self.position = np.random.permutation(range(n))\n",
        "        self.velocity = np.random.permutation(range(n))\n",
        "        self.pbest_position = self.position\n",
        "        self.pbest_value = float('inf')\n",
        "\n",
        "class PSO:\n",
        "    def __init__(self, n, population_size, iterations):\n",
        "        self.population_size = population_size\n",
        "        self.iterations = iterations\n",
        "        self.n = n\n",
        "        self.population = [Particle(n) for _ in range(population_size)]\n",
        "        self.gbest_value = float('inf')\n",
        "        self.gbest_position = np.zeros(n)\n",
        "\n",
        "    def optimize(self):\n",
        "        for t in range(self.iterations):\n",
        "            for particle in self.population:\n",
        "                fitness_value = evaluate(particle.position)\n",
        "                if fitness_value < particle.pbest_value:\n",
        "                    particle.pbest_value = fitness_value\n",
        "                    particle.pbest_position = particle.position.copy()\n",
        "                if fitness_value < self.gbest_value:\n",
        "                    self.gbest_value = fitness_value\n",
        "                    self.gbest_position = particle.position.copy()\n",
        "            for particle in self.population:\n",
        "                particle.velocity = (particle.velocity +\n",
        "                                     np.random.rand() * (particle.pbest_position - particle.position) +\n",
        "                                     np.random.rand() * (self.gbest_position - particle.position))\n",
        "                particle.position = np.argsort(particle.position + particle.velocity)\n",
        "        return self.gbest_position, self.gbest_value\n",
        "\n",
        "# Inisialisasi dan jalankan PSO\n",
        "pso = PSO(n=len(pelanggan)-1, population_size=50, iterations=100)\n",
        "best_route, best_distance = pso.optimize()\n",
        "\n",
        "print(\"Rute pengiriman terbaik:\", best_route)\n",
        "print(\"Total waktu tempuh terkecil:\", best_distance, \"unit jarak\")\n"
      ]
    }
  ]
}